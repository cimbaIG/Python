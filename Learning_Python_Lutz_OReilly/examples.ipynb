{
 "cells": [
  {
   "cell_type": "markdown",
   "metadata": {},
   "source": [
    "# String fundamentals"
   ]
  },
  {
   "cell_type": "markdown",
   "metadata": {},
   "source": [
    "## String Formatting Expressions"
   ]
  },
  {
   "cell_type": "markdown",
   "metadata": {},
   "source": [
    "### Formatting Expression Basics"
   ]
  },
  {
   "cell_type": "code",
   "execution_count": 1,
   "metadata": {},
   "outputs": [
    {
     "name": "stdout",
     "output_type": "stream",
     "text": [
      "That is 1 dead bird!\n"
     ]
    }
   ],
   "source": [
    "#Format expression\n",
    "print('That is %d %s bird!' % (1, 'dead'))"
   ]
  },
  {
   "cell_type": "code",
   "execution_count": 4,
   "metadata": {},
   "outputs": [
    {
     "name": "stdout",
     "output_type": "stream",
     "text": [
      "The knights who sat Ni!\n",
      "1 spam 4 you\n",
      "42 -- 3.14159 -- [1, 2, 3]\n"
     ]
    }
   ],
   "source": [
    "# String substitution\n",
    "exclamation = 'Ni'\n",
    "print('The knights who sat %s!' % exclamation)\n",
    "\n",
    "# Type-specific substitution\n",
    "print('%d %s %g you' % (1, 'spam', 4.0))\n",
    "\n",
    "# All types match a %s target\n",
    "print('%s -- %s -- %s' % (42, 3.14159, [1, 2, 3]))"
   ]
  },
  {
   "cell_type": "markdown",
   "metadata": {},
   "source": [
    "### Advanced Formatting Expression Examples\n",
    "\n",
    "* Entry 1\n",
    "* Entry 2"
   ]
  },
  {
   "cell_type": "code",
   "execution_count": 17,
   "metadata": {},
   "outputs": [
    {
     "name": "stdout",
     "output_type": "stream",
     "text": [
      "integers: ...1234...1234  ...001234\n",
      "1.234000e+03 | 1.234000E+03 | 1234.000000 | 1234\n",
      "1.23   | 01.23 | +001.2\n",
      "1.23456789 1.23456789\n",
      "0.333333, 0.33, 0.3333\n"
     ]
    }
   ],
   "source": [
    "x = 1234\n",
    "res = 'integers: ...%d...%-6d...%06d' % (x, x, x)\n",
    "print(res)\n",
    "print('%e | %E | %f | %g' % (x, x, x, x))\n",
    "\n",
    "x = 1.23456789\n",
    "print('%-6.2f | %05.2f | %+06.1f' % (x, x, x))\n",
    "print('%s' % x, str(x))\n",
    "print('%f, %.2f, %.*f' % (1/3.0, 1/3.0, 4, 1/3.0))"
   ]
  },
  {
   "cell_type": "markdown",
   "metadata": {},
   "source": [
    "### Dictionary-Based Formatting Expression"
   ]
  },
  {
   "cell_type": "code",
   "execution_count": null,
   "metadata": {},
   "outputs": [],
   "source": []
  },
  {
   "cell_type": "code",
   "execution_count": null,
   "metadata": {},
   "outputs": [],
   "source": []
  },
  {
   "cell_type": "code",
   "execution_count": null,
   "metadata": {},
   "outputs": [],
   "source": []
  },
  {
   "cell_type": "markdown",
   "metadata": {},
   "source": [
    "## String Formatting Method Calls"
   ]
  },
  {
   "cell_type": "markdown",
   "metadata": {},
   "source": [
    "### Formatting Method Basics"
   ]
  },
  {
   "cell_type": "code",
   "execution_count": null,
   "metadata": {},
   "outputs": [],
   "source": []
  },
  {
   "cell_type": "code",
   "execution_count": null,
   "metadata": {},
   "outputs": [],
   "source": []
  },
  {
   "cell_type": "code",
   "execution_count": null,
   "metadata": {},
   "outputs": [],
   "source": []
  }
 ],
 "metadata": {
  "interpreter": {
   "hash": "e1a068e2796038083fa1cc314aadcccdb37037656e5182611097862070cdd14f"
  },
  "kernelspec": {
   "display_name": "Python 3.9.7 ('base')",
   "language": "python",
   "name": "python3"
  },
  "language_info": {
   "codemirror_mode": {
    "name": "ipython",
    "version": 3
   },
   "file_extension": ".py",
   "mimetype": "text/x-python",
   "name": "python",
   "nbconvert_exporter": "python",
   "pygments_lexer": "ipython3",
   "version": "3.9.7"
  },
  "orig_nbformat": 4
 },
 "nbformat": 4,
 "nbformat_minor": 2
}
